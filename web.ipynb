{
  "nbformat": 4,
  "nbformat_minor": 0,
  "metadata": {
    "colab": {
      "name": "web.ipynb",
      "provenance": [],
      "collapsed_sections": [],
      "authorship_tag": "ABX9TyN1vdpqKNSayOsajAopxahD",
      "include_colab_link": true
    },
    "kernelspec": {
      "name": "python3",
      "display_name": "Python 3"
    },
    "language_info": {
      "name": "python"
    }
  },
  "cells": [
    {
      "cell_type": "markdown",
      "metadata": {
        "id": "view-in-github",
        "colab_type": "text"
      },
      "source": [
        "<a href=\"https://colab.research.google.com/github/MaheshJay00/Web-Scraping---ImDb-Genres/blob/main/web.ipynb\" target=\"_parent\"><img src=\"https://colab.research.google.com/assets/colab-badge.svg\" alt=\"Open In Colab\"/></a>"
      ]
    },
    {
      "cell_type": "code",
      "metadata": {
        "id": "8AZ9cPr5qeA-"
      },
      "source": [
        "import pandas as pd\n",
        "import numpy as np\n",
        "import requests\n",
        "from requests import get\n",
        "from bs4 import BeautifulSoup\n",
        "from time import sleep\n",
        "from random import randint"
      ],
      "execution_count": 1,
      "outputs": []
    },
    {
      "cell_type": "code",
      "metadata": {
        "id": "1R3rDigCqixa"
      },
      "source": [
        "titles = []\n",
        "years = []\n",
        "time=[]\n",
        "genres=[]\n",
        "imdb_ratings = []\n",
        "metascores = []\n",
        "desc=[]"
      ],
      "execution_count": null,
      "outputs": []
    },
    {
      "cell_type": "code",
      "metadata": {
        "id": "y31qNN4R1yUv"
      },
      "source": [
        "headers = {'Accept-Language': 'en-US, en;q=0.5'}"
      ],
      "execution_count": null,
      "outputs": []
    },
    {
      "cell_type": "code",
      "metadata": {
        "id": "hcMlzjpj11PF"
      },
      "source": [
        "URL='https://www.imdb.com/search/title/?genres='\n",
        "genre=['sci-fi','comedy','horror']\n",
        "                \n",
        "#sci-fi','https://www.imdb.com/search/title/?genres=comedy','https://www.imdb.com/search/title/?genres=horror']\n",
        "for x in genre:\n",
        "  url=URL+x\n",
        "  page = requests.get(url)\n",
        "  soup = BeautifulSoup(page.text, 'html.parser')\n",
        "  movie_div = soup.find_all('div', class_='lister-item mode-advanced')\n",
        "  sleep(randint(2,10))\n",
        "  for container in movie_div:\n",
        "        \n",
        "        name = container.h3.a.text\n",
        "        titles.append(name)\n",
        "        \n",
        "        \n",
        "        year = container.h3.find('span', class_='lister-item-year').text\n",
        "        years.append(year)\n",
        "        \n",
        "        \n",
        "        runtime = container.find('span', class_='runtime').text if container.p.find('span', class_='runtime') else '-'\n",
        "        time.append(runtime)\n",
        "\n",
        "        genre = container.find('span', class_='genre').text if container.p.find('span', class_='runtime') else '-'\n",
        "        genres.append(genre.strip())\n",
        "\n",
        "      \n",
        "\n",
        "        description=container.find_all('p',{\"class\":\"text-muted\"})[1].text.strip()\n",
        "        desc.append(description)\n",
        "\n",
        "        try:\n",
        "          imdb=float(container.strong.text)\n",
        "        except:\n",
        "          imdb=''\n",
        "        imdb_ratings.append(imdb)\n",
        " \n",
        "       "
      ],
      "execution_count": null,
      "outputs": []
    },
    {
      "cell_type": "code",
      "metadata": {
        "colab": {
          "base_uri": "https://localhost:8080/",
          "height": 374
        },
        "id": "4iSfswCo6nGQ",
        "outputId": "fdcc98f3-57ce-4d66-f3ac-37217776c8fd"
      },
      "source": [
        "movies=pd.DataFrame({'movie':titles,'year':years,'time':time,'genre':genres,'description':desc,'ratings':imdb_ratings})\n",
        "movies.head()"
      ],
      "execution_count": null,
      "outputs": [
        {
          "output_type": "execute_result",
          "data": {
            "text/html": [
              "<div>\n",
              "<style scoped>\n",
              "    .dataframe tbody tr th:only-of-type {\n",
              "        vertical-align: middle;\n",
              "    }\n",
              "\n",
              "    .dataframe tbody tr th {\n",
              "        vertical-align: top;\n",
              "    }\n",
              "\n",
              "    .dataframe thead th {\n",
              "        text-align: right;\n",
              "    }\n",
              "</style>\n",
              "<table border=\"1\" class=\"dataframe\">\n",
              "  <thead>\n",
              "    <tr style=\"text-align: right;\">\n",
              "      <th></th>\n",
              "      <th>movie</th>\n",
              "      <th>year</th>\n",
              "      <th>time</th>\n",
              "      <th>genre</th>\n",
              "      <th>description</th>\n",
              "      <th>ratings</th>\n",
              "    </tr>\n",
              "  </thead>\n",
              "  <tbody>\n",
              "    <tr>\n",
              "      <th>0</th>\n",
              "      <td>Venom: Let There Be Carnage</td>\n",
              "      <td>(2021)</td>\n",
              "      <td>97 min</td>\n",
              "      <td>Action, Adventure, Sci-Fi</td>\n",
              "      <td>Eddie Brock attempts to reignite his career by...</td>\n",
              "      <td>6.4</td>\n",
              "    </tr>\n",
              "    <tr>\n",
              "      <th>1</th>\n",
              "      <td>Dune</td>\n",
              "      <td>(2021)</td>\n",
              "      <td>155 min</td>\n",
              "      <td>Action, Adventure, Drama</td>\n",
              "      <td>Feature adaptation of Frank Herbert's science ...</td>\n",
              "      <td>8.3</td>\n",
              "    </tr>\n",
              "    <tr>\n",
              "      <th>2</th>\n",
              "      <td>Free Guy</td>\n",
              "      <td>(2021)</td>\n",
              "      <td>115 min</td>\n",
              "      <td>Action, Adventure, Comedy</td>\n",
              "      <td>A bank teller discovers that he's actually an ...</td>\n",
              "      <td>7.3</td>\n",
              "    </tr>\n",
              "    <tr>\n",
              "      <th>3</th>\n",
              "      <td>Foundation</td>\n",
              "      <td>(2021– )</td>\n",
              "      <td>-</td>\n",
              "      <td>-</td>\n",
              "      <td>A complex saga of humans scattered on planets ...</td>\n",
              "      <td>7.4</td>\n",
              "    </tr>\n",
              "    <tr>\n",
              "      <th>4</th>\n",
              "      <td>Black Widow</td>\n",
              "      <td>(2021)</td>\n",
              "      <td>134 min</td>\n",
              "      <td>Action, Adventure, Sci-Fi</td>\n",
              "      <td>Natasha Romanoff confronts the darker parts of...</td>\n",
              "      <td>6.8</td>\n",
              "    </tr>\n",
              "  </tbody>\n",
              "</table>\n",
              "</div>"
            ],
            "text/plain": [
              "                         movie  ... ratings\n",
              "0  Venom: Let There Be Carnage  ...     6.4\n",
              "1                         Dune  ...     8.3\n",
              "2                     Free Guy  ...     7.3\n",
              "3                   Foundation  ...     7.4\n",
              "4                  Black Widow  ...     6.8\n",
              "\n",
              "[5 rows x 6 columns]"
            ]
          },
          "metadata": {},
          "execution_count": 23
        }
      ]
    },
    {
      "cell_type": "code",
      "metadata": {
        "id": "00xd2QBK69pW",
        "colab": {
          "base_uri": "https://localhost:8080/",
          "height": 340
        },
        "outputId": "307678fb-0ce4-41a8-e6da-62975cc6e11f"
      },
      "source": [
        "movies['year'] = movies['year'].str.extract('(\\d+)').astype(int)\n",
        "movies.head()\n",
        "\n"
      ],
      "execution_count": null,
      "outputs": [
        {
          "output_type": "execute_result",
          "data": {
            "text/html": [
              "<div>\n",
              "<style scoped>\n",
              "    .dataframe tbody tr th:only-of-type {\n",
              "        vertical-align: middle;\n",
              "    }\n",
              "\n",
              "    .dataframe tbody tr th {\n",
              "        vertical-align: top;\n",
              "    }\n",
              "\n",
              "    .dataframe thead th {\n",
              "        text-align: right;\n",
              "    }\n",
              "</style>\n",
              "<table border=\"1\" class=\"dataframe\">\n",
              "  <thead>\n",
              "    <tr style=\"text-align: right;\">\n",
              "      <th></th>\n",
              "      <th>movie</th>\n",
              "      <th>year</th>\n",
              "      <th>time</th>\n",
              "      <th>genre</th>\n",
              "      <th>description</th>\n",
              "      <th>ratings</th>\n",
              "    </tr>\n",
              "  </thead>\n",
              "  <tbody>\n",
              "    <tr>\n",
              "      <th>0</th>\n",
              "      <td>Venom: Let There Be Carnage</td>\n",
              "      <td>2021</td>\n",
              "      <td>97 min</td>\n",
              "      <td>Action, Adventure, Sci-Fi</td>\n",
              "      <td>Eddie Brock attempts to reignite his career by...</td>\n",
              "      <td>6.4</td>\n",
              "    </tr>\n",
              "    <tr>\n",
              "      <th>1</th>\n",
              "      <td>Dune</td>\n",
              "      <td>2021</td>\n",
              "      <td>155 min</td>\n",
              "      <td>Action, Adventure, Drama</td>\n",
              "      <td>Feature adaptation of Frank Herbert's science ...</td>\n",
              "      <td>8.3</td>\n",
              "    </tr>\n",
              "    <tr>\n",
              "      <th>2</th>\n",
              "      <td>Free Guy</td>\n",
              "      <td>2021</td>\n",
              "      <td>115 min</td>\n",
              "      <td>Action, Adventure, Comedy</td>\n",
              "      <td>A bank teller discovers that he's actually an ...</td>\n",
              "      <td>7.3</td>\n",
              "    </tr>\n",
              "    <tr>\n",
              "      <th>3</th>\n",
              "      <td>Foundation</td>\n",
              "      <td>2021</td>\n",
              "      <td>-</td>\n",
              "      <td>-</td>\n",
              "      <td>A complex saga of humans scattered on planets ...</td>\n",
              "      <td>7.4</td>\n",
              "    </tr>\n",
              "    <tr>\n",
              "      <th>4</th>\n",
              "      <td>Black Widow</td>\n",
              "      <td>2021</td>\n",
              "      <td>134 min</td>\n",
              "      <td>Action, Adventure, Sci-Fi</td>\n",
              "      <td>Natasha Romanoff confronts the darker parts of...</td>\n",
              "      <td>6.8</td>\n",
              "    </tr>\n",
              "  </tbody>\n",
              "</table>\n",
              "</div>"
            ],
            "text/plain": [
              "                         movie  ...  ratings\n",
              "0  Venom: Let There Be Carnage  ...      6.4\n",
              "1                         Dune  ...      8.3\n",
              "2                     Free Guy  ...      7.3\n",
              "3                   Foundation  ...      7.4\n",
              "4                  Black Widow  ...      6.8\n",
              "\n",
              "[5 rows x 6 columns]"
            ]
          },
          "metadata": {},
          "execution_count": 24
        }
      ]
    },
    {
      "cell_type": "code",
      "metadata": {
        "id": "0xKvXUmu1ool"
      },
      "source": [
        "movies.to_csv('imdb_genres.csv',index=False,encoding='utf-8')"
      ],
      "execution_count": null,
      "outputs": []
    }
  ]
}